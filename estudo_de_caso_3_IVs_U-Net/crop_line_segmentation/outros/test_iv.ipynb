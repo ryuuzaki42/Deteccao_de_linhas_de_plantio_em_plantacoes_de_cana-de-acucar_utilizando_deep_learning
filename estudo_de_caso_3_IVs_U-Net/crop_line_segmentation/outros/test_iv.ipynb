{
 "cells": [
  {
   "cell_type": "markdown",
   "id": "78dbd13f",
   "metadata": {},
   "source": [
    "# Checking Dice"
   ]
  },
  {
   "cell_type": "code",
   "execution_count": 1,
   "id": "509fd152",
   "metadata": {},
   "outputs": [
    {
     "name": "stdout",
     "output_type": "stream",
     "text": [
      "env: SM_FRAMEWORK=tf.keras\n"
     ]
    },
    {
     "name": "stderr",
     "output_type": "stream",
     "text": [
      "2022-07-29 22:00:43.153262: W tensorflow/stream_executor/platform/default/dso_loader.cc:64] Could not load dynamic library 'libcudart.so.11.0'; dlerror: libcudart.so.11.0: cannot open shared object file: No such file or directory\n",
      "2022-07-29 22:00:43.153282: I tensorflow/stream_executor/cuda/cudart_stub.cc:29] Ignore above cudart dlerror if you do not have a GPU set up on your machine.\n"
     ]
    },
    {
     "name": "stdout",
     "output_type": "stream",
     "text": [
      "Segmentation Models: using `tf.keras` framework.\n"
     ]
    }
   ],
   "source": [
    "%env SM_FRAMEWORK=tf.keras\n",
    "\n",
    "import segmentation_models as sm\n",
    "import cv2\n",
    "from skimage.io import imread, imsave\n",
    "import numpy as np\n",
    "import glob\n",
    "import os\n",
    "\n",
    "#from sklearn.metrics import jaccard_score\n"
   ]
  },
  {
   "cell_type": "code",
   "execution_count": 6,
   "id": "7bd71f0e",
   "metadata": {},
   "outputs": [],
   "source": [
    "def dice(y_pred, y_true, k = 1):\n",
    "    intersection = np.sum(y_pred[y_true==k]) * 2.0\n",
    "    dice = intersection / (np.sum(y_pred) + np.sum(y_true))\n",
    "    return dice\n"
   ]
  },
  {
   "cell_type": "code",
   "execution_count": 18,
   "id": "11f6cd3e",
   "metadata": {},
   "outputs": [
    {
     "name": "stdout",
     "output_type": "stream",
     "text": [
      "[108 139 154]\n",
      "Dice Similarity: 0.0\n"
     ]
    }
   ],
   "source": [
    "y_true = cv2.imread('/media/sda2/home/j/Downloads/0del/00/iv/Recortes/E/A_0001.png')\n",
    "#y_pred = cv2.imread('/media/sda2/home/j/Dropbox_maestral/ufu/2022/iv/Recortes/E/A_0001.png')\n",
    "\n",
    "y_pred = cv2.imread('/media/sda2/home/j/Downloads/0del/00/iv/Recortes/E/A_0001.png')\n",
    "\n",
    "print(y_true[0][0])\n",
    "\n",
    "#0 - 255\n",
    "#dice_score = dice(y_pred, y_true, k = 255) # k can be 255 or 1\n",
    "\n",
    "y_true = y_true / 255\n",
    "y_pred = y_pred / 255\n",
    "\n",
    "# 0 - 1\n",
    "dice_score = dice(y_pred, y_true, k = 1) # k can be 255 or 1\n",
    "\n",
    "print (\"Dice Similarity: {}\".format(dice_score))"
   ]
  },
  {
   "cell_type": "code",
   "execution_count": null,
   "id": "db7473fb",
   "metadata": {},
   "outputs": [],
   "source": [
    "print(type(y_pred))\n",
    "print(y_pred.dtype)\n",
    "print(y_pred.shape)\n",
    "print(len(y_pred.shape))\n",
    "print(y_pred)"
   ]
  },
  {
   "cell_type": "code",
   "execution_count": 52,
   "id": "bb3f6151",
   "metadata": {},
   "outputs": [
    {
     "name": "stdout",
     "output_type": "stream",
     "text": [
      "(256, 256, 3)\n",
      "(256, 256, 3)\n",
      "(256, 256, 3)\n",
      "[ 83 139 124]\n",
      "[108 139 154]\n",
      "(256, 256, 5)\n",
      "[108 139 154 108 108]\n"
     ]
    }
   ],
   "source": [
    "#img = cv2.imread('/media/sda2/home/j/Downloads/0del/00/iv/Recortes/E/A_0001.png')\n",
    "#img = cv2.imread('/media/sda2/home/j/Downloads/0del/00/iv/Recortes/E/A_0001.png', 0)\n",
    "img = cv2.imread('/media/sda2/home/j/Downloads/0del/00/iv/Recortes/E/A_0001.png', cv2.IMREAD_UNCHANGED)\n",
    "#img = cv2.imread('/media/sda2/home/j/Downloads/0del/00/iv/Recortes/E_mask/A_0001.png', cv2.IMREAD_UNCHANGED)\n",
    "#img = cv2.imread('/media/sda2/home/j/Downloads/0del/00/iv/Recortes/E_mask/a.png', cv2.IMREAD_UNCHANGED)\n",
    "\n",
    "print(img.shape)\n",
    "\n",
    "B, G, R = cv2.split(img)\n",
    "\n",
    "print(img.shape)\n",
    "#if len(img.shape) == 3: # img with 3 channels\n",
    "    #img = np.expand_dims(img, axis=0)\n",
    " #   img = np.expand_dims(img, axis=-1)\n",
    "\n",
    "print(img.shape)\n",
    "print(img[100][50])\n",
    "\n",
    "print(img[0,0])\n",
    "\n",
    "img = np.dstack((img, B))\n",
    "img = np.dstack((img, B))\n",
    "print(img.shape)\n",
    "\n",
    "print(img[0,0])\n"
   ]
  },
  {
   "cell_type": "code",
   "execution_count": 50,
   "id": "013fe12f",
   "metadata": {},
   "outputs": [
    {
     "name": "stdout",
     "output_type": "stream",
     "text": [
      "dataset: A\n",
      "count: 678\n",
      "dice_score_all: 647.7298279265892\n",
      "dice_score avg: 0.9553537285052939\n",
      "Done all!\n"
     ]
    }
   ],
   "source": [
    "pathStart=\"/run/media/j/tmp_ntfs/0_t_mest_bkp/tests/Segmentacao Linha Plantio CNN/\"\n",
    "\n",
    "diretorio_pr = pathStart + \"Teste_01E/result-images/\"\n",
    "\n",
    "for i in range(1): #\n",
    "    if i == 0:\n",
    "        dataset = 'A'\n",
    "    elif i == 1:\n",
    "        dataset = 'B'\n",
    "    elif i == 2:\n",
    "        dataset = 'C'\n",
    "    elif i == 3:\n",
    "        dataset = 'D'\n",
    "\n",
    "    print(\"dataset:\", dataset)\n",
    "\n",
    "    #dataset = \"C\" \n",
    "    diretorio_mask= pathStart + \"Recortes/Base_\" + dataset + \"_mask/\"\n",
    "\n",
    "    dice_score_all = 0\n",
    "    count = 0\n",
    "\n",
    "    for name_pr in sorted(glob.glob(diretorio_pr + dataset + \"*.png\")):\n",
    "        img_pr = cv2.imread(name_pr)\n",
    "    \n",
    "        name_mask = name_pr.split(\"/\")[-1]\n",
    "        img_mask = cv2.imread(diretorio_mask + name_mask)\n",
    "    \n",
    "        #print(\"Image predict path:\", name_pr)\n",
    "        #print(\"Image mask path:\", diretorio_mask + name_mask)\n",
    "    \n",
    "        img_pr = img_pr / 255\n",
    "        #img_pr = img_pr.astype('uint8')\n",
    "    \n",
    "        img_mask = img_mask / 255\n",
    "        #img_mask = img_mask.astype('uint8')\n",
    "    \n",
    "    \n",
    "        dice_score = dice(img_pr, img_mask, k = 1) # k can be 255 or 1\n",
    "        #print (\"Dice Similarity {} : {}\".format(name_mask, dice_score))\n",
    "        #input()\n",
    "    \n",
    "        dice_score_all += dice_score\n",
    "        count += 1\n",
    "\n",
    "    print(\"count:\", count)\n",
    "    print(\"dice_score_all:\", dice_score_all)\n",
    "    print(\"dice_score avg:\", dice_score_all/count)\n",
    "\n",
    "print(\"Done all!\")"
   ]
  },
  {
   "cell_type": "code",
   "execution_count": 58,
   "id": "377e27a0",
   "metadata": {},
   "outputs": [],
   "source": [
    "def img_mask_adjust(img):\n",
    "    img = img / 255\n",
    "    img = np.array(img)\n",
    "\n",
    "    print(img.shape)\n",
    "    img = img[:,:, 0]\n",
    "    print(img.shape)\n",
    "\n",
    "    img[img >= 0.5] = 1\n",
    "    img[img < 1] = 0\n",
    "    img = img.astype('uint8')\n",
    "\n",
    "    return img\n"
   ]
  },
  {
   "cell_type": "code",
   "execution_count": 90,
   "id": "9c76f986",
   "metadata": {},
   "outputs": [
    {
     "name": "stdout",
     "output_type": "stream",
     "text": [
      "img_pr.shape (256, 256, 3)\n",
      "img_mask.shape (256, 256, 3)\n",
      "(256, 256)\n",
      "(256, 256)\n",
      "Dice Similarity A_0001.png : 0.9103576588880312\n",
      "intersection: 45994.0\n",
      "dice_val: 0.9103576588880312\n"
     ]
    }
   ],
   "source": [
    "\n",
    "path_pr = \"/run/media/j/tmp_ntfs/0_t_mest_bkp/tests/Segmentacao Linha Plantio CNN/Teste_01E/result-images/\"\n",
    "path_mask = \"/run/media/j/tmp_ntfs/0_t_mest_bkp/tests/Segmentacao Linha Plantio CNN/Recortes/Base_A_mask/\"\n",
    "\n",
    "numberImg = \"0001\"\n",
    "#numberImg = \"0678\"\n",
    "#numberImg = \"0611\"\n",
    "\n",
    "img_pr = cv2.imread(path_pr + \"A_\" + numberImg + \".png\")\n",
    "img_mask = cv2.imread(path_mask + \"A_\" + numberImg + \".png\")\n",
    "\n",
    "print(\"img_pr.shape\", img_pr.shape)\n",
    "print(\"img_mask.shape\", img_mask.shape)\n",
    "\n",
    "img_pr = img_pr / 255\n",
    "img_pr = np.array(img_pr)\n",
    "\n",
    "img_mask = img_mask[:,:, 0]\n",
    "print(img_mask.shape)\n",
    "\n",
    "img_pr = img_pr[:,:, 0]\n",
    "print(img_pr.shape)\n",
    "\n",
    "#img_pr[img_pr >= 0.5] = 1\n",
    "#img_pr[img_pr < 1] = 0\n",
    "img_pr = img_pr.astype('uint8')\n",
    "\n",
    "img_mask = img_mask / 255\n",
    "img_mask = img_mask.astype('uint8')\n",
    "\n",
    "#img_mask = img_mask_adjust(img_mask)\n",
    "#img_pr = img_mask_adjust(img_pr)\n",
    "\n",
    "k = 1\n",
    "\n",
    "dice_score = dice(img_pr, img_mask, k) # k can be 255 or 1\n",
    "print (\"Dice Similarity {} : {}\".format(\"A_\"+ numberImg + \".png\", dice_score))\n",
    "\n",
    "intersection = np.sum(img_pr[img_mask==k]) * 2.0\n",
    "print(\"intersection:\", intersection)\n",
    "\n",
    "dice_val = intersection / (np.sum(img_pr) + np.sum(img_mask))\n",
    "print(\"dice_val:\", dice_val)\n"
   ]
  },
  {
   "cell_type": "code",
   "execution_count": 54,
   "id": "28fd4669",
   "metadata": {},
   "outputs": [
    {
     "name": "stdout",
     "output_type": "stream",
     "text": [
      "img_pr.shape (256, 256, 3)\n",
      "img_mask.shape (256, 256, 3)\n",
      "img_pr.shape (256, 256)\n",
      "img_mask.shape (256, 256)\n"
     ]
    }
   ],
   "source": [
    "path_pr = \"/run/media/j/tmp_ntfs/0_t_mest_bkp/tests/Segmentacao Linha Plantio CNN/Teste_01E/result-images/A_0001.png\"\n",
    "path_mask = \"/run/media/j/tmp_ntfs/0_t_mest_bkp/tests/Segmentacao Linha Plantio CNN/Recortes/Base_A_mask/A_0001.png\"\n",
    "\n",
    "img_pr = cv2.imread(path_pr) # (256, 256, 3)\n",
    "img_mask = cv2.imread(path_mask) # (256, 256, 3)\n",
    "\n",
    "print(\"img_pr.shape\", img_pr.shape)\n",
    "print(\"img_mask.shape\", img_mask.shape)\n",
    "\n",
    "\n",
    "img_pr = cv2.imread(path_pr, cv2.IMREAD_GRAYSCALE) # (256, 256)\n",
    "img_mask = cv2.imread(path_mask, cv2.IMREAD_GRAYSCALE) # (256, 256)\n",
    "\n",
    "print(\"img_pr.shape\", img_pr.shape)\n",
    "print(\"img_mask.shape\", img_mask.shape)\n"
   ]
  },
  {
   "cell_type": "code",
   "execution_count": null,
   "id": "111ddad3",
   "metadata": {},
   "outputs": [],
   "source": [
    "count = 0\n",
    "for i in range(256):\n",
    "    for j in range(256):\n",
    "        count += 1\n",
    "        print(\"count:\", count, \" img_pr[\", i, \"][\", j, \"]\", img_pr[i][j])\n"
   ]
  },
  {
   "cell_type": "code",
   "execution_count": null,
   "id": "e48c6810",
   "metadata": {},
   "outputs": [],
   "source": []
  },
  {
   "cell_type": "markdown",
   "id": "e2612159",
   "metadata": {},
   "source": [
    "# VI"
   ]
  },
  {
   "cell_type": "code",
   "execution_count": 10,
   "id": "2ff19272",
   "metadata": {},
   "outputs": [
    {
     "name": "stdout",
     "output_type": "stream",
     "text": [
      "<class 'numpy.ndarray'>\n",
      "uint8\n",
      "(256, 256, 3)\n"
     ]
    }
   ],
   "source": [
    "import cv2\n",
    "import numpy as np\n",
    "\n",
    "img = cv2.imread(\"/media/sda2/home/j/Downloads/0del/00/iv/Recortes/E/A_0001.png\")\n",
    "print(type(img))\n",
    "print(img.dtype)\n",
    "print(img.shape)\n",
    "\n",
    "#print(img)"
   ]
  },
  {
   "cell_type": "code",
   "execution_count": 11,
   "id": "8cf39903",
   "metadata": {},
   "outputs": [],
   "source": [
    "def split_RGB_channel(img): # return RGB channels\n",
    "    # opencv reads the images as BGR instead of RGB\n",
    "    B, G, R = cv2.split(img)\n",
    "\n",
    "    # Convert to float\n",
    "    # Inf whe sum is more then 255\n",
    "    # RuntimeWarning: divide by zero encountered in true_divide\n",
    "    R = R.astype('float32')\n",
    "    G = G.astype('float32')\n",
    "    B = B.astype('float32')\n",
    "\n",
    "    return R, G, B\n",
    "\n",
    "def normalized_RGB(img): # return normalized values for each RGB channel\n",
    "    R, G, B = split_RGB_channel(img)\n",
    "\n",
    "    # 24 bits image, 8 bits for each color, has 255 (2^8) as max value\n",
    "    Rn = R/255.0\n",
    "    Gn = G/255.0\n",
    "    Bn = B/255.0\n",
    "\n",
    "    return Rn, Gn, Bn\n",
    "\n",
    "def chromatic_coordinates(img): # Return cromatic coordinates for each RGB channel\n",
    "    Rn, Gn, Bn = normalized_RGB(img)\n",
    "\n",
    "    ALLn = Rn + Gn + Bn\n",
    "\n",
    "    r = Rn / ALLn\n",
    "    g = Gn / ALLn\n",
    "    b = Bn / ALLn\n",
    "\n",
    "    return r, g, b\n",
    "\n",
    "# 01 VARI  Visible Atmospherically Resistant Index\n",
    "# 02 ExG   Excess Green Index\n",
    "# 03 ExR   Excess Red Vegetation Index\n",
    "# 04 ExB   Excess Blue Vegetation Index\n",
    "# 05 EXGR  Excess Green minus Excess Red\n",
    "# 06 GRVI  Green Red Vegetation Index\n",
    "# 07 MGRVI Modified Green Red Vegetation Index\n",
    "# 08 GLI   Green Leaf Index\n",
    "# 09 RGBVI Red Green Blue Vegetation Index\n",
    "# 10 IKAW  Kawashima Index\n",
    "\n",
    "def calc_VI_01_VARI(img): # calculate VARI\n",
    "    r, g, b = chromatic_coordinates(img)\n",
    "\n",
    "    vi_01_vari = (g - r) / (g + r - b)\n",
    "    return vi_01_vari\n",
    "\n",
    "def calc_VI_02_ExG(img): # calculate ExG\n",
    "    r, g, b = chromatic_coordinates(img)\n",
    "\n",
    "    vi_02_ExG = 2*g - r - b\n",
    "    return vi_02_ExG\n",
    "\n",
    "def calc_VI_03_ExR(img): # calculate ExR\n",
    "    R, G, B = split_RGB_channel(img)\n",
    "\n",
    "    vi_03_ExR = (1.4 * R - G) / ( R + G + B)\n",
    "    return vi_03_ExR\n",
    "\n",
    "def calc_VI_04_ExB(img): # calculate ExB\n",
    "    R, G, B = split_RGB_channel(img)\n",
    "\n",
    "    vi_04_ExB = (1.4 * B - G) / ( R + G + B)\n",
    "    return vi_04_ExB\n",
    "\n",
    "def calc_VI_05_ExGR(img): # calculate ExGR\n",
    "    r, g, b = chromatic_coordinates(img)\n",
    "\n",
    "    vi_02_ExG = calc_VI_02_ExG(img)\n",
    "    vi_03_ExR = calc_VI_03_ExR(img)\n",
    "\n",
    "    vi_05_ExGR = vi_02_ExG - vi_03_ExR\n",
    "    return vi_05_ExGR\n",
    "\n",
    "def calc_VI_06_GRVi(img): # calculate GRVI\n",
    "    R, G, B = split_RGB_channel(img)\n",
    "\n",
    "    vi_06_GRVI = (G - R) / (G + R)\n",
    "    return vi_06_GRVI\n",
    "\n",
    "def calc_VI_07_MGRVI(img): # calculate MGRVI\n",
    "    R, G, B = split_RGB_channel(img)\n",
    "\n",
    "    vi_07_MGRVI = (G ** 2 - R ** 2) / (G ** 2 + R ** 2)\n",
    "    return vi_07_MGRVI\n",
    "\n",
    "def calc_VI_08_GLI(img): # calculate GLI\n",
    "    r, g, b = chromatic_coordinates(img)\n",
    "\n",
    "    vi_08_GLI = (2*g - r - b) / (-r - b)\n",
    "    return vi_08_GLI\n",
    "\n",
    "def calc_VI_09_RGBVI(img): # calculate RGBVI\n",
    "    R, G, B = split_RGB_channel(img)\n",
    "\n",
    "    vi_09_RGBVI = (G ** 2 - B * R) / (G ** 2 + B * R)\n",
    "    return vi_09_RGBVI\n",
    "\n",
    "def calc_VI_10_IKAW(img): # calculate IKAW\n",
    "    R, G, B = split_RGB_channel(img)\n",
    "\n",
    "    vi_10_IKAW = (R - B) / (R + B)\n",
    "    return vi_10_IKAW\n"
   ]
  },
  {
   "cell_type": "code",
   "execution_count": null,
   "id": "43f5d3cb",
   "metadata": {},
   "outputs": [],
   "source": [
    "import matplotlib.pyplot as plt\n",
    "import numpy as np\n",
    "\n",
    "def return_vi_by_number(viNum, img):\n",
    "    if viNum == 1:\n",
    "        vi = calc_VI_01_VARI(img)\n",
    "    elif viNum == 2:\n",
    "        vi = calc_VI_02_ExG(img)\n",
    "    elif viNum == 3:\n",
    "        vi = calc_VI_03_ExR(img)\n",
    "    elif viNum == 4:\n",
    "        vi = calc_VI_04_ExB(img)\n",
    "    elif viNum == 5:\n",
    "        vi = calc_VI_05_ExGR(img)\n",
    "    elif viNum == 6:\n",
    "        vi = calc_VI_06_GRVi(img)\n",
    "    elif viNum == 7:\n",
    "        vi = calc_VI_07_MGRVI(img)\n",
    "    elif viNum == 8:\n",
    "        vi = calc_VI_08_GLI(img)\n",
    "    elif viNum == 9:\n",
    "        vi = calc_VI_09_RGBVI(img)\n",
    "    elif viNum == 10:\n",
    "        vi = calc_VI_10_IKAW(img)\n",
    "\n",
    "    return vi\n",
    "\n",
    "def plot_vis_10(cmap=\"viridis\"): # default cmap=\"viridis\"\n",
    "    rows = 2\n",
    "    cols = 5\n",
    "\n",
    "    #fig, axes = plt.subplots(nm_img_to_plot, cols, figsize=(cols * figsize, nm_img_to_plot * figsize), squeeze=False)\n",
    "    fig, axes = plt.subplots(rows, cols, figsize=(15 * rows, 2.5 * cols))\n",
    "\n",
    "    namesVI = [\"01 VARI\", \"02 ExG\", \"03 ExR\", \"04 ExB\", \"05 EXGR\",\n",
    "               \"06 GRVI\", \"07 MGRVI\", \"08 GLI\", \"09 RGBVI\", \"10 IKAW\"]\n",
    "\n",
    "    posX = 0\n",
    "    posY = 0\n",
    "    for viNum in range(1, 11):\n",
    "        #print (\"viNum:\", viNum)\n",
    "        print(namesVI[viNum - 1])\n",
    "\n",
    "        vi = return_vi_by_number(viNum, img)\n",
    "\n",
    "        print(\"max\", np.max(vi), \"min\", np.min(vi))\n",
    "        print(\"dtype\", vi.dtype, \"shape\", vi.shape)\n",
    "\n",
    "        #print(\"axes[\",posX, posY,\"].\")\n",
    "        axes[posX, posY].set_title(namesVI[viNum - 1], fontsize=15)\n",
    "\n",
    "        axes[posX, posY].set_axis_off()\n",
    "\n",
    "        #axes[posX, posY].imshow(vi)\n",
    "        axes[posX, posY].imshow(vi, cmap=cmap)\n",
    "\n",
    "        posY += 1\n",
    "        if posY == cols:\n",
    "            posY = 0\n",
    "            posX += 1\n",
    "\n",
    "    # set the spacing between subplots\n",
    "    #fig.tight_layout(pad=0, h_pad=None, w_pad=None, rect=None)\n",
    "    plt.show()\n",
    "\n",
    "plt.imshow(cv2.cvtColor(img, cv2.COLOR_BGR2RGB))\n",
    "plt.show()\n",
    "\n",
    "plot_vis_10()\n",
    "\n",
    "plot_vis_10(cmap=\"gray\")\n",
    "\n",
    "# https://docs.opencv.org/4.x/d3/d50/group__imgproc__colormap.html\n",
    "plot_vis_10(cmap=\"turbo\")\n"
   ]
  },
  {
   "cell_type": "code",
   "execution_count": null,
   "id": "b3a9c792",
   "metadata": {},
   "outputs": [],
   "source": []
  },
  {
   "cell_type": "markdown",
   "id": "3a20e812",
   "metadata": {},
   "source": [
    "## Tests of errors"
   ]
  },
  {
   "cell_type": "code",
   "execution_count": 107,
   "id": "da9e35ff",
   "metadata": {},
   "outputs": [
    {
     "name": "stdout",
     "output_type": "stream",
     "text": [
      "0.24390244\n",
      "0.03150684\n",
      "done!\n"
     ]
    }
   ],
   "source": [
    "iv = calc_IV_03_ExR(img)\n",
    "\n",
    "print(np.max(iv))\n",
    "print(np.min(iv))\n",
    "\n",
    "def printInfos():\n",
    "    for i in range(256):\n",
    "        for j in range(256):\n",
    "            #print(iv[i, j], end=\" \")\n",
    "            if iv[i, j] == np.inf:\n",
    "                print(\"i:\", i, \"j:\", j, \"img[i,j]:\", img[i,j], \"iv[i,j]\", iv[i, j])\n",
    "                print(\"\\n-------------------------------------------------------------------------\")\n",
    "                input()\n",
    "    print(\"done!\")\n",
    "\n",
    "printInfos()\n",
    "#iv[iv < 0] = 0"
   ]
  },
  {
   "cell_type": "code",
   "execution_count": 74,
   "id": "38684cec",
   "metadata": {},
   "outputs": [
    {
     "name": "stdout",
     "output_type": "stream",
     "text": [
      "[ 57  99 100]\n",
      "t: 256\n",
      "b: -19.200000000000003\n",
      "-0.07500000000000001\n"
     ]
    }
   ],
   "source": [
    "print(img[1, 172])\n",
    "\n",
    "B = 100\n",
    "G = 99\n",
    "R = 57\n",
    "\n",
    "print(\"t:\", R + G + B)\n",
    "print(\"b:\", (1.4 * R - G))\n",
    "\n",
    "res = (1.4 * R - G) / ( R + G + B)\n",
    "print(res)\n"
   ]
  },
  {
   "cell_type": "code",
   "execution_count": 29,
   "id": "2462705d",
   "metadata": {},
   "outputs": [
    {
     "name": "stdout",
     "output_type": "stream",
     "text": [
      "[ 2.  2. inf  0.]\n",
      "[18  2  0  0]\n",
      "BGR 57.0 99.0 100.0\n",
      "t 41.0\n",
      "b 256.0\n",
      "<class 'numpy.float64'>\n",
      "0.16015625\n"
     ]
    },
    {
     "name": "stderr",
     "output_type": "stream",
     "text": [
      "/tmp/ipykernel_28665/2793365588.py:4: RuntimeWarning: divide by zero encountered in true_divide\n",
      "  c = a / b\n"
     ]
    }
   ],
   "source": [
    "a = np.array([6, 2, 1, 0])\n",
    "b = np.array([3, 1, 0, 1])\n",
    "\n",
    "c = a / b\n",
    "\n",
    "print(c)\n",
    "\n",
    "d = a * b\n",
    "print(d)\n",
    "\n",
    "B = np.array(img[1, 172, 0])\n",
    "G = np.array(img[1, 172, 1])\n",
    "R = np.array(img[1, 172, 2])\n",
    "\n",
    "\n",
    "R = R.astype('float64')\n",
    "G = G.astype('float64')\n",
    "B = B.astype('float64')\n",
    "\n",
    "print(\"BGR\", B, G, R)\n",
    "\n",
    "t = (1.4 * R - G)\n",
    "print(\"t\", t)\n",
    "b = (R + G) + B\n",
    "print(\"b\", b)\n",
    "print(type(b))\n",
    "\n",
    "res = (1.4 * R - G) / ( R + G + B)\n",
    "print(res)"
   ]
  },
  {
   "cell_type": "code",
   "execution_count": null,
   "id": "de619cbb",
   "metadata": {},
   "outputs": [],
   "source": []
  }
 ],
 "metadata": {
  "kernelspec": {
   "display_name": "Python 3 (ipykernel)",
   "language": "python",
   "name": "python3"
  },
  "language_info": {
   "codemirror_mode": {
    "name": "ipython",
    "version": 3
   },
   "file_extension": ".py",
   "mimetype": "text/x-python",
   "name": "python",
   "nbconvert_exporter": "python",
   "pygments_lexer": "ipython3",
   "version": "3.9.7"
  }
 },
 "nbformat": 4,
 "nbformat_minor": 5
}
