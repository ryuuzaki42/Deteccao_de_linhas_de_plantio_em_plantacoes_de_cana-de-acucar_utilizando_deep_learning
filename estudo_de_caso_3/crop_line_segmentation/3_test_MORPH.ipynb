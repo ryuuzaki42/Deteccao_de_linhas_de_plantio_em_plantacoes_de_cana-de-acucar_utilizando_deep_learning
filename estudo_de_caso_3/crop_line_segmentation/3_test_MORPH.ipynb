{
 "cells": [
  {
   "cell_type": "code",
   "execution_count": null,
   "id": "6d1df36e",
   "metadata": {
    "ExecuteTime": {
     "end_time": "2023-07-05T19:36:26.628478Z",
     "start_time": "2023-07-05T19:36:26.151344Z"
    }
   },
   "outputs": [],
   "source": [
    "import cv2\n",
    "import os\n",
    "import glob\n",
    "import numpy as np\n",
    "\n",
    "import matplotlib.pyplot as plt\n"
   ]
  },
  {
   "cell_type": "code",
   "execution_count": null,
   "id": "53caf539",
   "metadata": {
    "ExecuteTime": {
     "end_time": "2023-07-05T19:36:28.631478Z",
     "start_time": "2023-07-05T19:36:28.623240Z"
    }
   },
   "outputs": [],
   "source": [
    "def make_dirs(output_dir):\n",
    "    try:\n",
    "        os.makedirs(output_dir)\n",
    "    except OSError as error:\n",
    "        print(error)\n",
    "    else:\n",
    "        print (\"\\nCreated the directory:\", output_dir)\n",
    "\n",
    "# detect the current working directory and print it\n",
    "path = os.getcwd()\n",
    "print (\"Current working directory:\", path)\n"
   ]
  },
  {
   "cell_type": "code",
   "execution_count": null,
   "id": "10cce187",
   "metadata": {
    "ExecuteTime": {
     "end_time": "2023-07-05T19:37:20.676005Z",
     "start_time": "2023-07-05T19:37:20.658287Z"
    }
   },
   "outputs": [],
   "source": [
    "def morphological_transf(img, num_MORPH):\n",
    "    # 1 erode\n",
    "    # 2 dilate\n",
    "    # 3 open\n",
    "    # 4 close\n",
    "\n",
    "    if num_MORPH == 1: # erode\n",
    "        img_result = cv2.erode(img, kernel, iterations=1)\n",
    "    elif num_MORPH == 2: # dilate\n",
    "        img_result = cv2.dilate(img, kernel, iterations=1)\n",
    "    elif num_MORPH == 3: # open\n",
    "        img_result = cv2.morphologyEx(img, cv2.MORPH_OPEN, kernel)\n",
    "    elif num_MORPH == 4: # close\n",
    "        img_result = cv2.morphologyEx(img, cv2.MORPH_CLOSE, kernel)\n",
    "\n",
    "    return img_result\n"
   ]
  },
  {
   "cell_type": "code",
   "execution_count": null,
   "id": "a0778deb",
   "metadata": {
    "ExecuteTime": {
     "end_time": "2023-07-05T19:39:47.519828Z",
     "start_time": "2023-07-05T19:39:38.262406Z"
    },
    "scrolled": true
   },
   "outputs": [],
   "source": [
    "# kernel 3x3 - cruzf\n",
    "# kernel = np.array([[0, 1, 1], [1, 1, 1], [0, 1, 0]], np.uint8)\n",
    "# kernel = np.ones((3,3),np.uint8) # kernel 3x3 - all 1\n",
    "\n",
    "# num_MORPH = 1\n",
    "# kernel_MORPH = 1\n",
    "\n",
    "# kernel_MORPH = 1: # 3x3 cross\n",
    "# kernel_MORPH = 2: # 3x3 all 1\n",
    "    \n",
    "part_1 = \"E:/Joao/crop_line_segmentation_iv_15012023/results/\"\n",
    "\n",
    "part_2 = \"test_1_U-Net_without_VI_weights_Base_E/result_images/\"\n",
    "part_2 = \"test_9_U-Net_without_VI_weights_Base_E/result_images/\"\n",
    "\n",
    "part_2 = \"test_1_U-Net_without_VI_weights_Base_L/result_images/\"\n",
    "part_2 = \"test_9_U-Net_without_VI_weights_Base_L/result_images/\"\n",
    "\n",
    "#part_1 = \"/media/sda2/home/j/Downloads/0del/00/iv_dl_tests/results_L/\"\n",
    "part_1 = \"/media/sda2/home/j/Downloads/0del/00/iv_dl_tests/Teste_01E/\" \n",
    "#part_2 = \"test_9_U-Net_without_VI_weights_Base_E\"\n",
    "#part_2 = \"test_9_U-Net_without_VI_weights_Base_L/\"\n",
    "part_2 = \"result-images/\"\n",
    "\n",
    "part_1 = \"/run/media/j/Files_ex/0_f_mest_bkp_outros/iv_results/results_E_1/\"\n",
    "part_2 = \"test_1_U-Net_without_VI_weights_Base_E/result_images/\"\n",
    "\n",
    "part_1 = \"/run/media/j/Files_ex/0_f_mest_bkp_outros/new_04_01_2023/results_L/\"\n",
    "part_2 = \"test_9_U-Net_without_VI_weights_Base_L/result_images/\"\n",
    "\n",
    "diretorio_pr = part_1 + part_2\n",
    "\n",
    "print(\"diretorio_pr:\", diretorio_pr)\n",
    "print(sorted(glob.glob(diretorio_pr + \"/predict_Base_?/\")))\n",
    "\n",
    "for kernel_MORPH in range(1, 3):\n",
    "    if kernel_MORPH == 1: # 3x3 cross\n",
    "        kernel = np.array([[0, 1, 1], [1, 1, 1], [0, 1, 0]], np.uint8)\n",
    "        kernel_name = \"cross\"\n",
    "    elif kernel_MORPH == 2: # 3x3 all 1\n",
    "        kernel = np.ones((3,3),np.uint8) # kernel 3x3 - all 1\n",
    "        kernel_name = \"allOne\"\n",
    "\n",
    "    print(\"kernel_name:\", kernel_name)\n",
    "\n",
    "    for num_MORPH in range(1, 5):\n",
    "        print(\"\\nnum_MORPH:\", num_MORPH)\n",
    "        if num_MORPH == 1: # erode\n",
    "            extra_name = \"MORPH_ERODE_\" + kernel_name\n",
    "        elif num_MORPH == 2: # dilate\n",
    "            extra_name = \"MORPH_DILATE_\" + kernel_name\n",
    "        elif num_MORPH == 3: # open\n",
    "            extra_name = \"MORPH_OPEN_\" + kernel_name\n",
    "        elif num_MORPH == 4: # close\n",
    "            extra_name = \"MORPH_CLOSE_\" + kernel_name\n",
    "\n",
    "        #for folder_path in sorted(glob.glob(diretorio_pr + \"/predict_Base_L/\")):\n",
    "        for folder_path in sorted(glob.glob(diretorio_pr + \"/predict_Base_?/\")):\n",
    "        #for folder_path in sorted(glob.glob(diretorio_pr)): #Test local old\n",
    "            print(\"\\n\\nfolder_path:\", folder_path)\n",
    "\n",
    "            folder_path = folder_path.replace(\"\\\\\",\"/\") # change \"\\\" to \"/\"\n",
    "            folder_name = folder_path.split('/')[-2]\n",
    "\n",
    "            print(\"folder_name:\", folder_name)\n",
    "            print(\"extra_name:\", extra_name)\n",
    "\n",
    "            output_dir = diretorio_pr + extra_name + '/' + folder_name\n",
    "            print(\"output_dir:\", output_dir)\n",
    "            #exit2\n",
    "            \n",
    "            make_dirs(output_dir)\n",
    "\n",
    "            count_img = 0\n",
    "            for img_name_full in sorted(glob.glob(folder_path + \"/*.png\")):\n",
    "                #print(\"img_name_full:\", img_name_full)\n",
    "\n",
    "                img_load = cv2.imread(img_name_full, cv2.IMREAD_GRAYSCALE)\n",
    "\n",
    "                #import matplotlib.pyplot as plt\n",
    "                #plt.imshow(cv2.cvtColor(img_load, cv2.COLOR_BGR2RGB))\n",
    "                #plt.show()\n",
    "\n",
    "                #print(\"Max:\", np.max(img_load), \"Min:\", np.min(img_load))\n",
    "\n",
    "                img_load = img_load / float(255)\n",
    "\n",
    "                # Make binary\n",
    "                img_load[img_load >= 0.5] = 1\n",
    "                img_load[img_load < 1] = 0\n",
    "                img_load = img_load.astype('uint8')\n",
    "        \n",
    "                #plt.imshow(img_load, cmap = \"gray\")\n",
    "                #plt.show()\n",
    "                \n",
    "                img_result = morphological_transf(img_load, num_MORPH)\n",
    "\n",
    "                #plt.imshow(img_result, cmap = \"gray\")\n",
    "                #plt.show()\n",
    "                #input()\n",
    "\n",
    "                img_result = img_result * 255 # Make easy to see line\n",
    "                \n",
    "                \n",
    "                img_name_full = img_name_full.replace(\"\\\\\",\"/\") # change \"\\\" to \"/\"\n",
    "                img_name = img_name_full.split('/')[-1]\n",
    "\n",
    "                #print(\"img_name:\", img_name)\n",
    "                count_img += 1\n",
    "                print(count_img, end = \" \")\n",
    "\n",
    "                name_output_dir = output_dir + \"/\" + img_name\n",
    "\n",
    "                cv2.imwrite(name_output_dir, img_result)\n",
    "\n",
    "                #break\n",
    "            #break\n",
    "        #break\n",
    "    #break\n",
    "\n",
    "print(\"\\n\\nAll done!\\n\")\n"
   ]
  },
  {
   "cell_type": "code",
   "execution_count": null,
   "id": "fe834583",
   "metadata": {},
   "outputs": [],
   "source": []
  }
 ],
 "metadata": {
  "kernelspec": {
   "display_name": "Python 3 (ipykernel)",
   "language": "python",
   "name": "python3"
  },
  "language_info": {
   "codemirror_mode": {
    "name": "ipython",
    "version": 3
   },
   "file_extension": ".py",
   "mimetype": "text/x-python",
   "name": "python",
   "nbconvert_exporter": "python",
   "pygments_lexer": "ipython3",
   "version": "3.10.6"
  },
  "toc": {
   "base_numbering": 1,
   "nav_menu": {},
   "number_sections": true,
   "sideBar": true,
   "skip_h1_title": false,
   "title_cell": "Table of Contents",
   "title_sidebar": "Contents",
   "toc_cell": false,
   "toc_position": {},
   "toc_section_display": true,
   "toc_window_display": false
  },
  "varInspector": {
   "cols": {
    "lenName": 16,
    "lenType": 16,
    "lenVar": 40
   },
   "kernels_config": {
    "python": {
     "delete_cmd_postfix": "",
     "delete_cmd_prefix": "del ",
     "library": "var_list.py",
     "varRefreshCmd": "print(var_dic_list())"
    },
    "r": {
     "delete_cmd_postfix": ") ",
     "delete_cmd_prefix": "rm(",
     "library": "var_list.r",
     "varRefreshCmd": "cat(var_dic_list()) "
    }
   },
   "types_to_exclude": [
    "module",
    "function",
    "builtin_function_or_method",
    "instance",
    "_Feature"
   ],
   "window_display": false
  }
 },
 "nbformat": 4,
 "nbformat_minor": 5
}
