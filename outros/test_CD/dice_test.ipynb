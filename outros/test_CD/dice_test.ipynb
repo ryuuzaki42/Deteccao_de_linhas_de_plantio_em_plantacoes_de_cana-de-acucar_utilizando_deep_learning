{
 "cells": [
  {
   "cell_type": "markdown",
   "metadata": {
    "ExecuteTime": {
     "end_time": "2024-07-19T20:49:34.484250Z",
     "start_time": "2024-07-19T20:49:34.474190Z"
    }
   },
   "source": [
    "# Análise do valor do coeficiente de dice"
   ]
  },
  {
   "cell_type": "code",
   "execution_count": 1,
   "metadata": {
    "ExecuteTime": {
     "end_time": "2024-07-19T21:47:31.269005Z",
     "start_time": "2024-07-19T21:47:30.896840Z"
    },
    "id": "n0SWhDQen8kv"
   },
   "outputs": [],
   "source": [
    "import numpy as np\n",
    "import matplotlib.pyplot as plt\n",
    "plt.rcParams['image.cmap'] = 'gray'\n"
   ]
  },
  {
   "cell_type": "markdown",
   "metadata": {
    "ExecuteTime": {
     "end_time": "2024-07-19T20:50:08.961213Z",
     "start_time": "2024-07-19T20:50:08.952772Z"
    }
   },
   "source": [
    "## Calcula dice"
   ]
  },
  {
   "cell_type": "code",
   "execution_count": 2,
   "metadata": {
    "ExecuteTime": {
     "end_time": "2024-07-19T21:47:33.134829Z",
     "start_time": "2024-07-19T21:47:33.122370Z"
    },
    "id": "Ia2770O5AuSP"
   },
   "outputs": [],
   "source": [
    "def dice(y_pred, y_true, k = 1):\n",
    "    intersection = np.sum(y_pred[y_true==k]) * 2.0\n",
    "    dice_score = intersection / (np.sum(y_pred) + np.sum(y_true))\n",
    "    return dice_score\n"
   ]
  },
  {
   "cell_type": "markdown",
   "metadata": {
    "ExecuteTime": {
     "end_time": "2024-07-19T20:50:35.958265Z",
     "start_time": "2024-07-19T20:50:35.947791Z"
    }
   },
   "source": [
    "## Teste"
   ]
  },
  {
   "cell_type": "code",
   "execution_count": 3,
   "metadata": {
    "ExecuteTime": {
     "end_time": "2024-07-19T21:47:35.205024Z",
     "start_time": "2024-07-19T21:47:35.192118Z"
    },
    "id": "WyUqvsTOosJC"
   },
   "outputs": [],
   "source": [
    "def plot_2_img(img_1, img_2):\n",
    "    fig, ax = plt.subplots(1, 2)\n",
    "\n",
    "    # https://github.com/matplotlib/matplotlib/issues/25468\n",
    "    ax[0].imshow(img_1, vmin=0, vmax=255)\n",
    "    #ax[0].set_xlabel(\"img_1\")\n",
    "\n",
    "    ax[1].imshow(img_2, vmin=0, vmax=255)\n",
    "    #ax[1].set_xlabel(\"img_2\")\n"
   ]
  },
  {
   "cell_type": "code",
   "execution_count": 4,
   "metadata": {
    "ExecuteTime": {
     "end_time": "2024-07-19T21:47:36.920802Z",
     "start_time": "2024-07-19T21:47:36.906782Z"
    },
    "id": "75hHvtxL55BW"
   },
   "outputs": [],
   "source": [
    "def img_pr_mask(img):\n",
    "    img = img / 255.0\n",
    "    img = np.array(img)\n",
    "\n",
    "    #print(img.shape)\n",
    "    #img = img[:,:, 0] # imread IMREAD_GRAYSCALE\n",
    "    #print(img.shape)\n",
    "\n",
    "    img[img >= 0.5] = 1\n",
    "    img[img < 1] = 0\n",
    "    img = img.astype('uint8')\n",
    "\n",
    "    return img\n"
   ]
  },
  {
   "cell_type": "code",
   "execution_count": 5,
   "metadata": {
    "ExecuteTime": {
     "end_time": "2024-07-19T21:47:38.787003Z",
     "start_time": "2024-07-19T21:47:38.768979Z"
    },
    "id": "BKy_zz8J6BL7"
   },
   "outputs": [],
   "source": [
    "def calc_dice(img_1, img_2):\n",
    "    img_pr = img_pr_mask(img_1)\n",
    "    img_mask = img_pr_mask(img_2)\n",
    "\n",
    "    dice_score = dice(img_pr, img_mask, k = 1) # k can be 255 or 1\n",
    "    dice_score = round(dice_score, 3)\n",
    "    print(f\"Dice {dice_score}\")\n",
    "\n",
    "    return dice_score\n"
   ]
  },
  {
   "cell_type": "code",
   "execution_count": 6,
   "metadata": {
    "ExecuteTime": {
     "end_time": "2024-07-19T21:47:40.484196Z",
     "start_time": "2024-07-19T21:47:40.329202Z"
    },
    "colab": {
     "base_uri": "https://localhost:8080/",
     "height": 1000
    },
    "id": "ZXk4syb1qARK",
    "outputId": "ee6f57c0-967c-4d3d-eecb-0b9ef1aef1dd"
   },
   "outputs": [
    {
     "name": "stdout",
     "output_type": "stream",
     "text": [
      "Quantidade de pixel: 10000\n",
      "0 - qtd pixel: 0 - 0.0 % Dice 0.0\n",
      "1 - qtd pixel: 100 - 1.0 % Dice 0.02\n",
      "2 - qtd pixel: 200 - 2.0 % Dice 0.039\n",
      "3 - qtd pixel: 300 - 3.0 % Dice 0.058\n",
      "4 - qtd pixel: 400 - 4.0 % Dice 0.077\n",
      "5 - qtd pixel: 500 - 5.0 % Dice 0.095\n",
      "6 - qtd pixel: 600 - 6.0 % Dice 0.113\n",
      "7 - qtd pixel: 700 - 7.0 % Dice 0.131\n",
      "8 - qtd pixel: 800 - 8.0 % Dice 0.148\n",
      "9 - qtd pixel: 900 - 9.0 % Dice 0.165\n",
      "10 - qtd pixel: 1000 - 10.0 % Dice 0.182\n",
      "11 - qtd pixel: 1100 - 11.0 % Dice 0.198\n",
      "12 - qtd pixel: 1200 - 12.0 % Dice 0.214\n",
      "13 - qtd pixel: 1300 - 13.0 % Dice 0.23\n",
      "14 - qtd pixel: 1400 - 14.0 % Dice 0.246\n",
      "15 - qtd pixel: 1500 - 15.0 % Dice 0.261\n",
      "16 - qtd pixel: 1600 - 16.0 % Dice 0.276\n",
      "17 - qtd pixel: 1700 - 17.0 % Dice 0.291\n",
      "18 - qtd pixel: 1800 - 18.0 % Dice 0.305\n",
      "19 - qtd pixel: 1900 - 19.0 % Dice 0.319\n",
      "20 - qtd pixel: 2000 - 20.0 % Dice 0.333\n",
      "21 - qtd pixel: 2100 - 21.0 % Dice 0.347\n",
      "22 - qtd pixel: 2200 - 22.0 % Dice 0.361\n",
      "23 - qtd pixel: 2300 - 23.0 % Dice 0.374\n",
      "24 - qtd pixel: 2400 - 24.0 % Dice 0.387\n",
      "25 - qtd pixel: 2500 - 25.0 % Dice 0.4\n",
      "26 - qtd pixel: 2600 - 26.0 % Dice 0.413\n",
      "27 - qtd pixel: 2700 - 27.0 % Dice 0.425\n",
      "28 - qtd pixel: 2800 - 28.0 % Dice 0.438\n",
      "29 - qtd pixel: 2900 - 29.0 % Dice 0.45\n",
      "30 - qtd pixel: 3000 - 30.0 % Dice 0.462\n",
      "31 - qtd pixel: 3100 - 31.0 % Dice 0.473\n",
      "32 - qtd pixel: 3200 - 32.0 % Dice 0.485\n",
      "33 - qtd pixel: 3300 - 33.0 % Dice 0.496\n",
      "34 - qtd pixel: 3400 - 34.0 % Dice 0.507\n",
      "35 - qtd pixel: 3500 - 35.0 % Dice 0.519\n",
      "36 - qtd pixel: 3600 - 36.0 % Dice 0.529\n",
      "37 - qtd pixel: 3700 - 37.0 % Dice 0.54\n",
      "38 - qtd pixel: 3800 - 38.0 % Dice 0.551\n",
      "39 - qtd pixel: 3900 - 39.0 % Dice 0.561\n",
      "40 - qtd pixel: 4000 - 40.0 % Dice 0.571\n",
      "41 - qtd pixel: 4100 - 41.0 % Dice 0.582\n",
      "42 - qtd pixel: 4200 - 42.0 % Dice 0.592\n",
      "43 - qtd pixel: 4300 - 43.0 % Dice 0.601\n",
      "44 - qtd pixel: 4400 - 44.0 % Dice 0.611\n",
      "45 - qtd pixel: 4500 - 45.0 % Dice 0.621\n",
      "46 - qtd pixel: 4600 - 46.0 % Dice 0.63\n",
      "47 - qtd pixel: 4700 - 47.0 % Dice 0.639\n",
      "48 - qtd pixel: 4800 - 48.0 % Dice 0.649\n",
      "49 - qtd pixel: 4900 - 49.0 % Dice 0.658\n",
      "50 - qtd pixel: 5000 - 50.0 % Dice 0.667\n",
      "51 - qtd pixel: 5100 - 51.0 % Dice 0.675\n",
      "52 - qtd pixel: 5200 - 52.0 % Dice 0.684\n",
      "53 - qtd pixel: 5300 - 53.0 % Dice 0.693\n",
      "54 - qtd pixel: 5400 - 54.0 % Dice 0.701\n",
      "55 - qtd pixel: 5500 - 55.0 % Dice 0.71\n",
      "56 - qtd pixel: 5600 - 56.0 % Dice 0.718\n",
      "57 - qtd pixel: 5700 - 57.0 % Dice 0.726\n",
      "58 - qtd pixel: 5800 - 58.0 % Dice 0.734\n",
      "59 - qtd pixel: 5900 - 59.0 % Dice 0.742\n",
      "60 - qtd pixel: 6000 - 60.0 % Dice 0.75\n",
      "61 - qtd pixel: 6100 - 61.0 % Dice 0.758\n",
      "62 - qtd pixel: 6200 - 62.0 % Dice 0.765\n",
      "63 - qtd pixel: 6300 - 63.0 % Dice 0.773\n",
      "64 - qtd pixel: 6400 - 64.0 % Dice 0.78\n",
      "65 - qtd pixel: 6500 - 65.0 % Dice 0.788\n",
      "66 - qtd pixel: 6600 - 66.0 % Dice 0.795\n",
      "67 - qtd pixel: 6700 - 67.0 % Dice 0.802\n",
      "68 - qtd pixel: 6800 - 68.0 % Dice 0.81\n",
      "69 - qtd pixel: 6900 - 69.0 % Dice 0.817\n",
      "70 - qtd pixel: 7000 - 70.0 % Dice 0.824\n",
      "71 - qtd pixel: 7100 - 71.0 % Dice 0.83\n",
      "72 - qtd pixel: 7200 - 72.0 % Dice 0.837\n",
      "73 - qtd pixel: 7300 - 73.0 % Dice 0.844\n",
      "74 - qtd pixel: 7400 - 74.0 % Dice 0.851\n",
      "75 - qtd pixel: 7500 - 75.0 % Dice 0.857\n",
      "76 - qtd pixel: 7600 - 76.0 % Dice 0.864\n",
      "77 - qtd pixel: 7700 - 77.0 % Dice 0.87\n",
      "78 - qtd pixel: 7800 - 78.0 % Dice 0.876\n",
      "79 - qtd pixel: 7900 - 79.0 % Dice 0.883\n",
      "80 - qtd pixel: 8000 - 80.0 % Dice 0.889\n",
      "81 - qtd pixel: 8100 - 81.0 % Dice 0.895\n",
      "82 - qtd pixel: 8200 - 82.0 % Dice 0.901\n",
      "83 - qtd pixel: 8300 - 83.0 % Dice 0.907\n",
      "84 - qtd pixel: 8400 - 84.0 % Dice 0.913\n",
      "85 - qtd pixel: 8500 - 85.0 % Dice 0.919\n",
      "86 - qtd pixel: 8600 - 86.0 % Dice 0.925\n",
      "87 - qtd pixel: 8700 - 87.0 % Dice 0.93\n",
      "88 - qtd pixel: 8800 - 88.0 % Dice 0.936\n",
      "89 - qtd pixel: 8900 - 89.0 % Dice 0.942\n",
      "90 - qtd pixel: 9000 - 90.0 % Dice 0.947\n",
      "91 - qtd pixel: 9100 - 91.0 % Dice 0.953\n",
      "92 - qtd pixel: 9200 - 92.0 % Dice 0.958\n",
      "93 - qtd pixel: 9300 - 93.0 % Dice 0.964\n",
      "94 - qtd pixel: 9400 - 94.0 % Dice 0.969\n",
      "95 - qtd pixel: 9500 - 95.0 % Dice 0.974\n",
      "96 - qtd pixel: 9600 - 96.0 % Dice 0.98\n",
      "97 - qtd pixel: 9700 - 97.0 % Dice 0.985\n",
      "98 - qtd pixel: 9800 - 98.0 % Dice 0.99\n",
      "99 - qtd pixel: 9900 - 99.0 % Dice 0.995\n",
      "100 - qtd pixel: 10000 - 100.0 % Dice 1.0\n"
     ]
    }
   ],
   "source": [
    "size_img = 100\n",
    "#size_img = 256\n",
    "\n",
    "step_size = 1 # 0 to 100, 1 step\n",
    "#step_size = 5 # 0 to 100, 5 step\n",
    "\n",
    "img_1 = np.zeros((size_img, size_img)) # All 0\n",
    "img_1 = img_1.astype(np.uint8)\n",
    "\n",
    "img_2 = np.full((size_img, size_img), 255) # All 255\n",
    "img_2 = img_2.astype(np.uint8)\n",
    "\n",
    "print(f\"Quantidade de pixel: {size_img * size_img}\")\n",
    "values = []\n",
    "\n",
    "for step in range(0, size_img + 1, step_size):\n",
    "    x = step\n",
    "    y = x\n",
    "    percentage = ((x * size_img)/(size_img * size_img) * 100)\n",
    "    percentage = round(percentage, 2)\n",
    "\n",
    "    print(f\"{step} - qtd pixel: {x * size_img} - {percentage} % \", end=\"\")\n",
    "\n",
    "    for i in range (x):\n",
    "        for j in range (size_img):\n",
    "            #print(f\"img_1[{i}, {j}] = 255\")\n",
    "            img_1[i, j] = 255\n",
    "\n",
    "    img_2 = img_2.astype(np.uint8)\n",
    "\n",
    "    dice_score = calc_dice(img_1, img_2)\n",
    "    values.append((percentage, dice_score))\n",
    "\n",
    "    if step_size >= 5:\n",
    "        plot_2_img(img_1, img_2)\n"
   ]
  },
  {
   "cell_type": "code",
   "execution_count": 7,
   "metadata": {
    "ExecuteTime": {
     "end_time": "2024-07-19T21:47:46.636909Z",
     "start_time": "2024-07-19T21:47:46.465053Z"
    },
    "colab": {
     "base_uri": "https://localhost:8080/",
     "height": 455
    },
    "id": "90h0UwvNCaD9",
    "outputId": "136092aa-0ec1-403a-8a94-2df90d6c9b64"
   },
   "outputs": [
    {
     "data": {
      "image/png": "[encoded data removed]",
      "text/plain": [
       "<Figure size 640x480 with 1 Axes>"
      ]
     },
     "metadata": {},
     "output_type": "display_data"
    }
   ],
   "source": [
    "def plot_values_dice(values):\n",
    "    x_data = [x[0] for x in values]\n",
    "    y_data = [y[1] for y in values]\n",
    "\n",
    "    plt.xlim(0, 100)\n",
    "    plt.ylim(0, 1)\n",
    "\n",
    "    #plt.plot(x_data, y_data)\n",
    "    plt.plot(x_data, y_data, marker='.', linestyle='None')\n",
    "\n",
    "    plt.xticks(np.arange(0, 100+1, 10))\n",
    "    plt.yticks(np.arange(0, 1+0.1, 0.1))\n",
    "\n",
    "    plt.xlabel(\"%\")\n",
    "    plt.ylabel(\"Dice\")\n",
    "\n",
    "    plt.show()\n",
    "\n",
    "plot_values_dice(values)\n"
   ]
  },
  {
   "cell_type": "markdown",
   "metadata": {
    "ExecuteTime": {
     "end_time": "2024-07-19T20:51:02.614468Z",
     "start_time": "2024-07-19T20:51:02.604415Z"
    }
   },
   "source": [
    "## Com uma imagem real"
   ]
  },
  {
   "cell_type": "code",
   "execution_count": 8,
   "metadata": {
    "ExecuteTime": {
     "end_time": "2024-07-19T21:47:50.390587Z",
     "start_time": "2024-07-19T21:47:50.151891Z"
    }
   },
   "outputs": [
    {
     "name": "stdout",
     "output_type": "stream",
     "text": [
      "img.shape =(256, 256)\n"
     ]
    },
    {
     "data": {
      "text/plain": [
       "<matplotlib.image.AxesImage at 0x7fe3038be050>"
      ]
     },
     "execution_count": 8,
     "metadata": {},
     "output_type": "execute_result"
    },
    {
     "data": {
      "image/png": "[encoded data removed]",
      "text/plain": [
       "<Figure size 640x480 with 1 Axes>"
      ]
     },
     "metadata": {},
     "output_type": "display_data"
    }
   ],
   "source": [
    "import cv2\n",
    "\n",
    "img = cv2.imread(\"A_0001.png\", cv2.IMREAD_GRAYSCALE)\n",
    "print(f\"{img.shape =}\")\n",
    "plt.imshow(img, vmin=0, vmax=255)\n"
   ]
  },
  {
   "cell_type": "code",
   "execution_count": 9,
   "metadata": {
    "ExecuteTime": {
     "end_time": "2024-07-19T21:47:52.817041Z",
     "start_time": "2024-07-19T21:47:52.624692Z"
    }
   },
   "outputs": [
    {
     "name": "stdout",
     "output_type": "stream",
     "text": [
      "img_part.shape =(100, 100)\n"
     ]
    },
    {
     "data": {
      "text/plain": [
       "<matplotlib.image.AxesImage at 0x7fe30393b640>"
      ]
     },
     "execution_count": 9,
     "metadata": {},
     "output_type": "execute_result"
    },
    {
     "data": {
      "image/png": "[encoded data removed]",
      "text/plain": [
       "<Figure size 640x480 with 1 Axes>"
      ]
     },
     "metadata": {},
     "output_type": "display_data"
    }
   ],
   "source": [
    "size_part = 100\n",
    "img_part = img[:size_part, :size_part].copy()\n",
    "print(f\"{img_part.shape =}\")\n",
    "plt.imshow(img_part, vmin=0, vmax=255)\n"
   ]
  },
  {
   "cell_type": "code",
   "execution_count": 10,
   "metadata": {
    "ExecuteTime": {
     "end_time": "2024-07-19T21:47:57.325038Z",
     "start_time": "2024-07-19T21:47:56.432872Z"
    }
   },
   "outputs": [
    {
     "name": "stdout",
     "output_type": "stream",
     "text": [
      "count_pixel 10000\n",
      "i:0 percentage changed: 0.0 - pixel end: 0 Dice 1.0\n",
      "i:1 percentage changed: 0.01 - pixel end: 100 Dice 0.988\n",
      "i:2 percentage changed: 0.02 - pixel end: 200 Dice 0.976\n",
      "i:3 percentage changed: 0.03 - pixel end: 300 Dice 0.965\n",
      "i:4 percentage changed: 0.04 - pixel end: 400 Dice 0.953\n",
      "i:5 percentage changed: 0.05 - pixel end: 500 Dice 0.941\n",
      "i:6 percentage changed: 0.06 - pixel end: 600 Dice 0.93\n",
      "i:7 percentage changed: 0.07 - pixel end: 700 Dice 0.919\n",
      "i:8 percentage changed: 0.08 - pixel end: 800 Dice 0.907\n",
      "i:9 percentage changed: 0.09 - pixel end: 900 Dice 0.896\n",
      "i:10 percentage changed: 0.1 - pixel end: 1000 Dice 0.885\n",
      "i:11 percentage changed: 0.11 - pixel end: 1100 Dice 0.874\n",
      "i:12 percentage changed: 0.12 - pixel end: 1200 Dice 0.863\n",
      "i:13 percentage changed: 0.13 - pixel end: 1300 Dice 0.852\n",
      "i:14 percentage changed: 0.14 - pixel end: 1400 Dice 0.842\n",
      "i:15 percentage changed: 0.15 - pixel end: 1500 Dice 0.831\n",
      "i:16 percentage changed: 0.16 - pixel end: 1600 Dice 0.82\n",
      "i:17 percentage changed: 0.17 - pixel end: 1700 Dice 0.809\n",
      "i:18 percentage changed: 0.18 - pixel end: 1800 Dice 0.799\n",
      "i:19 percentage changed: 0.19 - pixel end: 1900 Dice 0.788\n",
      "i:20 percentage changed: 0.2 - pixel end: 2000 Dice 0.777\n",
      "i:21 percentage changed: 0.21 - pixel end: 2100 Dice 0.765\n",
      "i:22 percentage changed: 0.22 - pixel end: 2200 Dice 0.754\n",
      "i:23 percentage changed: 0.23 - pixel end: 2300 Dice 0.743\n",
      "i:24 percentage changed: 0.24 - pixel end: 2400 Dice 0.731\n",
      "i:25 percentage changed: 0.25 - pixel end: 2500 Dice 0.719\n",
      "i:26 percentage changed: 0.26 - pixel end: 2600 Dice 0.708\n",
      "i:27 percentage changed: 0.27 - pixel end: 2700 Dice 0.696\n",
      "i:28 percentage changed: 0.28 - pixel end: 2800 Dice 0.684\n",
      "i:29 percentage changed: 0.29 - pixel end: 2900 Dice 0.672\n",
      "i:30 percentage changed: 0.3 - pixel end: 3000 Dice 0.661\n",
      "i:31 percentage changed: 0.31 - pixel end: 3100 Dice 0.649\n",
      "i:32 percentage changed: 0.32 - pixel end: 3200 Dice 0.638\n",
      "i:33 percentage changed: 0.33 - pixel end: 3300 Dice 0.627\n",
      "i:34 percentage changed: 0.34 - pixel end: 3400 Dice 0.616\n",
      "i:35 percentage changed: 0.35 - pixel end: 3500 Dice 0.606\n",
      "i:36 percentage changed: 0.36 - pixel end: 3600 Dice 0.595\n",
      "i:37 percentage changed: 0.37 - pixel end: 3700 Dice 0.585\n",
      "i:38 percentage changed: 0.38 - pixel end: 3800 Dice 0.576\n",
      "i:39 percentage changed: 0.39 - pixel end: 3900 Dice 0.566\n",
      "i:40 percentage changed: 0.4 - pixel end: 4000 Dice 0.557\n",
      "i:41 percentage changed: 0.41 - pixel end: 4100 Dice 0.547\n",
      "i:42 percentage changed: 0.42 - pixel end: 4200 Dice 0.538\n",
      "i:43 percentage changed: 0.43 - pixel end: 4300 Dice 0.529\n",
      "i:44 percentage changed: 0.44 - pixel end: 4400 Dice 0.52\n",
      "i:45 percentage changed: 0.45 - pixel end: 4500 Dice 0.511\n",
      "i:46 percentage changed: 0.46 - pixel end: 4600 Dice 0.502\n",
      "i:47 percentage changed: 0.47 - pixel end: 4700 Dice 0.493\n",
      "i:48 percentage changed: 0.48 - pixel end: 4800 Dice 0.484\n",
      "i:49 percentage changed: 0.49 - pixel end: 4900 Dice 0.474\n",
      "i:50 percentage changed: 0.5 - pixel end: 5000 Dice 0.465\n",
      "i:51 percentage changed: 0.51 - pixel end: 5100 Dice 0.455\n",
      "i:52 percentage changed: 0.52 - pixel end: 5200 Dice 0.444\n",
      "i:53 percentage changed: 0.53 - pixel end: 5300 Dice 0.434\n",
      "i:54 percentage changed: 0.54 - pixel end: 5400 Dice 0.424\n",
      "i:55 percentage changed: 0.55 - pixel end: 5500 Dice 0.413\n",
      "i:56 percentage changed: 0.56 - pixel end: 5600 Dice 0.401\n",
      "i:57 percentage changed: 0.57 - pixel end: 5699 Dice 0.391\n",
      "i:58 percentage changed: 0.58 - pixel end: 5800 Dice 0.379\n",
      "i:59 percentage changed: 0.59 - pixel end: 5900 Dice 0.368\n",
      "i:60 percentage changed: 0.6 - pixel end: 6000 Dice 0.357\n",
      "i:61 percentage changed: 0.61 - pixel end: 6100 Dice 0.346\n",
      "i:62 percentage changed: 0.62 - pixel end: 6200 Dice 0.336\n",
      "i:63 percentage changed: 0.63 - pixel end: 6300 Dice 0.326\n",
      "i:64 percentage changed: 0.64 - pixel end: 6400 Dice 0.316\n",
      "i:65 percentage changed: 0.65 - pixel end: 6500 Dice 0.306\n",
      "i:66 percentage changed: 0.66 - pixel end: 6600 Dice 0.298\n",
      "i:67 percentage changed: 0.67 - pixel end: 6700 Dice 0.289\n",
      "i:68 percentage changed: 0.68 - pixel end: 6800 Dice 0.281\n",
      "i:69 percentage changed: 0.69 - pixel end: 6899 Dice 0.273\n",
      "i:70 percentage changed: 0.7 - pixel end: 7000 Dice 0.266\n",
      "i:71 percentage changed: 0.71 - pixel end: 7100 Dice 0.258\n",
      "i:72 percentage changed: 0.72 - pixel end: 7200 Dice 0.25\n",
      "i:73 percentage changed: 0.73 - pixel end: 7300 Dice 0.243\n",
      "i:74 percentage changed: 0.74 - pixel end: 7400 Dice 0.236\n",
      "i:75 percentage changed: 0.75 - pixel end: 7500 Dice 0.228\n",
      "i:76 percentage changed: 0.76 - pixel end: 7600 Dice 0.221\n",
      "i:77 percentage changed: 0.77 - pixel end: 7700 Dice 0.214\n",
      "i:78 percentage changed: 0.78 - pixel end: 7800 Dice 0.206\n",
      "i:79 percentage changed: 0.79 - pixel end: 7900 Dice 0.199\n",
      "i:80 percentage changed: 0.8 - pixel end: 8000 Dice 0.192\n",
      "i:81 percentage changed: 0.81 - pixel end: 8100 Dice 0.184\n",
      "i:82 percentage changed: 0.82 - pixel end: 8200 Dice 0.176\n",
      "i:83 percentage changed: 0.83 - pixel end: 8300 Dice 0.168\n",
      "i:84 percentage changed: 0.84 - pixel end: 8400 Dice 0.159\n",
      "i:85 percentage changed: 0.85 - pixel end: 8500 Dice 0.15\n",
      "i:86 percentage changed: 0.86 - pixel end: 8600 Dice 0.141\n",
      "i:87 percentage changed: 0.87 - pixel end: 8700 Dice 0.131\n",
      "i:88 percentage changed: 0.88 - pixel end: 8800 Dice 0.121\n",
      "i:89 percentage changed: 0.89 - pixel end: 8900 Dice 0.11\n",
      "i:90 percentage changed: 0.9 - pixel end: 9000 Dice 0.099\n",
      "i:91 percentage changed: 0.91 - pixel end: 9100 Dice 0.088\n",
      "i:92 percentage changed: 0.92 - pixel end: 9200 Dice 0.077\n",
      "i:93 percentage changed: 0.93 - pixel end: 9300 Dice 0.066\n",
      "i:94 percentage changed: 0.94 - pixel end: 9400 Dice 0.055\n",
      "i:95 percentage changed: 0.95 - pixel end: 9500 Dice 0.045\n",
      "i:96 percentage changed: 0.96 - pixel end: 9600 Dice 0.035\n",
      "i:97 percentage changed: 0.97 - pixel end: 9700 Dice 0.026\n",
      "i:98 percentage changed: 0.98 - pixel end: 9800 Dice 0.017\n",
      "i:99 percentage changed: 0.99 - pixel end: 9900 Dice 0.008\n",
      "i:100 percentage changed: 1.0 - pixel end: 10000 Dice 0.0\n"
     ]
    }
   ],
   "source": [
    "img_part_back = img[:size_part, :size_part].copy()\n",
    "\n",
    "shape_x = img_part.shape[0]\n",
    "shape_y = img_part.shape[1]\n",
    "\n",
    "count_pixel = shape_x * shape_y\n",
    "print(f\"count_pixel {count_pixel}\")\n",
    "\n",
    "values = []\n",
    "step = 1\n",
    "for i in range(0, 101, step):\n",
    "    img_part = img_part_back.copy()\n",
    "\n",
    "    print(f\"i:{i}\", end=\" \")\n",
    "    percentage_pixel = i/100\n",
    "    pixel_to_change = int(count_pixel * percentage_pixel)\n",
    "    \n",
    "    count = 0\n",
    "    for i in range (shape_x):\n",
    "        for j in range (shape_y):\n",
    "            if count == pixel_to_change:\n",
    "                break\n",
    "            else:\n",
    "                count = count + 1\n",
    "                #print(f\"{count}\")\n",
    "\n",
    "            #print(f\"before: img_1[{i}, {j}] = {img_part[i, j]}\")\n",
    "            if img_part[i, j] == 0:\n",
    "                img_part[i, j] = 255\n",
    "            else:\n",
    "                img_part[i, j] = 0\n",
    "            #print(f\"After: img_1[{i}, {j}] = {img_part[i, j]}\")\n",
    "\n",
    "        if count == pixel_to_change:\n",
    "            print(f\"percentage changed: {percentage_pixel} - pixel end: {count}\", end=\" \")\n",
    "            break\n",
    "\n",
    "    #plot_2_img(img[:size_part, :size_part], img_part)\n",
    "    dice_score = calc_dice(img_part_back, img_part)\n",
    "    values.append((100 - int(percentage_pixel * 100), dice_score))\n",
    "    #print(f\"Dice: {dice_score}\")\n"
   ]
  },
  {
   "cell_type": "code",
   "execution_count": 11,
   "metadata": {
    "ExecuteTime": {
     "end_time": "2024-07-19T21:48:00.232107Z",
     "start_time": "2024-07-19T21:48:00.200152Z"
    }
   },
   "outputs": [
    {
     "data": {
      "text/plain": [
       "[(100, 1.0),\n",
       " (99, 0.988),\n",
       " (98, 0.976),\n",
       " (97, 0.965),\n",
       " (96, 0.953),\n",
       " (95, 0.941),\n",
       " (94, 0.93),\n",
       " (93, 0.919),\n",
       " (92, 0.907),\n",
       " (91, 0.896),\n",
       " (90, 0.885),\n",
       " (89, 0.874),\n",
       " (88, 0.863),\n",
       " (87, 0.852),\n",
       " (86, 0.842),\n",
       " (85, 0.831),\n",
       " (84, 0.82),\n",
       " (83, 0.809),\n",
       " (82, 0.799),\n",
       " (81, 0.788),\n",
       " (80, 0.777),\n",
       " (79, 0.765),\n",
       " (78, 0.754),\n",
       " (77, 0.743),\n",
       " (76, 0.731),\n",
       " (75, 0.719),\n",
       " (74, 0.708),\n",
       " (73, 0.696),\n",
       " (72, 0.684),\n",
       " (72, 0.672),\n",
       " (70, 0.661),\n",
       " (69, 0.649),\n",
       " (68, 0.638),\n",
       " (67, 0.627),\n",
       " (66, 0.616),\n",
       " (65, 0.606),\n",
       " (64, 0.595),\n",
       " (63, 0.585),\n",
       " (62, 0.576),\n",
       " (61, 0.566),\n",
       " (60, 0.557),\n",
       " (59, 0.547),\n",
       " (58, 0.538),\n",
       " (57, 0.529),\n",
       " (56, 0.52),\n",
       " (55, 0.511),\n",
       " (54, 0.502),\n",
       " (53, 0.493),\n",
       " (52, 0.484),\n",
       " (51, 0.474),\n",
       " (50, 0.465),\n",
       " (49, 0.455),\n",
       " (48, 0.444),\n",
       " (47, 0.434),\n",
       " (46, 0.424),\n",
       " (45, 0.413),\n",
       " (44, 0.401),\n",
       " (44, 0.391),\n",
       " (43, 0.379),\n",
       " (41, 0.368),\n",
       " (40, 0.357),\n",
       " (39, 0.346),\n",
       " (38, 0.336),\n",
       " (37, 0.326),\n",
       " (36, 0.316),\n",
       " (35, 0.306),\n",
       " (34, 0.298),\n",
       " (33, 0.289),\n",
       " (32, 0.281),\n",
       " (31, 0.273),\n",
       " (30, 0.266),\n",
       " (29, 0.258),\n",
       " (28, 0.25),\n",
       " (27, 0.243),\n",
       " (26, 0.236),\n",
       " (25, 0.228),\n",
       " (24, 0.221),\n",
       " (23, 0.214),\n",
       " (22, 0.206),\n",
       " (21, 0.199),\n",
       " (20, 0.192),\n",
       " (19, 0.184),\n",
       " (18, 0.176),\n",
       " (17, 0.168),\n",
       " (16, 0.159),\n",
       " (15, 0.15),\n",
       " (14, 0.141),\n",
       " (13, 0.131),\n",
       " (12, 0.121),\n",
       " (11, 0.11),\n",
       " (10, 0.099),\n",
       " (9, 0.088),\n",
       " (8, 0.077),\n",
       " (7, 0.066),\n",
       " (6, 0.055),\n",
       " (5, 0.045),\n",
       " (4, 0.035),\n",
       " (3, 0.026),\n",
       " (2, 0.017),\n",
       " (1, 0.008),\n",
       " (0, 0.0)]"
      ]
     },
     "execution_count": 11,
     "metadata": {},
     "output_type": "execute_result"
    }
   ],
   "source": [
    "values\n"
   ]
  },
  {
   "cell_type": "code",
   "execution_count": 12,
   "metadata": {
    "ExecuteTime": {
     "end_time": "2024-07-19T21:48:03.519824Z",
     "start_time": "2024-07-19T21:48:03.320151Z"
    }
   },
   "outputs": [
    {
     "data": {
      "image/png": "[encoded data removed]",
      "text/plain": [
       "<Figure size 640x480 with 1 Axes>"
      ]
     },
     "metadata": {},
     "output_type": "display_data"
    }
   ],
   "source": [
    "plot_values_dice(values)\n"
   ]
  },
  {
   "cell_type": "code",
   "execution_count": null,
   "metadata": {},
   "outputs": [],
   "source": []
  }
 ],
 "metadata": {
  "colab": {
   "provenance": []
  },
  "kernelspec": {
   "display_name": "Python 3 (ipykernel)",
   "language": "python",
   "name": "python3"
  },
  "language_info": {
   "codemirror_mode": {
    "name": "ipython",
    "version": 3
   },
   "file_extension": ".py",
   "mimetype": "text/x-python",
   "name": "python",
   "nbconvert_exporter": "python",
   "pygments_lexer": "ipython3",
   "version": "3.10.6"
  },
  "toc": {
   "base_numbering": 1,
   "nav_menu": {},
   "number_sections": true,
   "sideBar": true,
   "skip_h1_title": false,
   "title_cell": "Table of Contents",
   "title_sidebar": "Contents",
   "toc_cell": false,
   "toc_position": {},
   "toc_section_display": true,
   "toc_window_display": false
  },
  "varInspector": {
   "cols": {
    "lenName": 16,
    "lenType": 16,
    "lenVar": 40
   },
   "kernels_config": {
    "python": {
     "delete_cmd_postfix": "",
     "delete_cmd_prefix": "del ",
     "library": "var_list.py",
     "varRefreshCmd": "print(var_dic_list())"
    },
    "r": {
     "delete_cmd_postfix": ") ",
     "delete_cmd_prefix": "rm(",
     "library": "var_list.r",
     "varRefreshCmd": "cat(var_dic_list()) "
    }
   },
   "types_to_exclude": [
    "module",
    "function",
    "builtin_function_or_method",
    "instance",
    "_Feature"
   ],
   "window_display": false
  }
 },
 "nbformat": 4,
 "nbformat_minor": 1
}
