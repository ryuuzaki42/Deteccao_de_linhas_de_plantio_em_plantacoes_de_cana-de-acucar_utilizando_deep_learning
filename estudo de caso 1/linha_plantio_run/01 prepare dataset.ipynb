{
 "cells": [
  {
   "cell_type": "code",
   "execution_count": 1,
   "metadata": {},
   "outputs": [
    {
     "name": "stderr",
     "output_type": "stream",
     "text": [
      "2022-02-25 15:09:36.465995: W tensorflow/stream_executor/platform/default/dso_loader.cc:64] Could not load dynamic library 'libcudart.so.11.0'; dlerror: libcudart.so.11.0: cannot open shared object file: No such file or directory; LD_LIBRARY_PATH: /media/sda2/0installed/anaconda3/envs/test/lib/python3.9/site-packages/cv2/../../lib64:\n",
      "2022-02-25 15:09:36.466018: I tensorflow/stream_executor/cuda/cudart_stub.cc:29] Ignore above cudart dlerror if you do not have a GPU set up on your machine.\n"
     ]
    }
   ],
   "source": [
    "import numpy as np \n",
    "import os\n",
    "import glob\n",
    "import shutil\n",
    "import skimage.io as io\n",
    "import skimage.transform as trans\n",
    "import matplotlib.pyplot as plt\n",
    "import cv2\n",
    "from keras.callbacks import ModelCheckpoint\n"
   ]
  },
  {
   "cell_type": "code",
   "execution_count": 2,
   "metadata": {},
   "outputs": [],
   "source": [
    "diretorio = \"/media/sda2/home/j/Downloads/tests/\"\n",
    "saida = \"/media/sda2/home/j/Downloads/tests/recortes_tmp/\"\n",
    "\n",
    "dataset_name = \"Base_A/\"\n",
    "dataset_img = \"corte_2360\"\n",
    "\n",
    "do_cut = False\n",
    "#do_cut = True\n",
    "\n",
    "if(do_cut):\n",
    "    img = io.imread(diretorio + dataset_img + \".tif\")\n",
    "    mask = io.imread(diretorio + dataset_img + \"_linhas.tif\")\n",
    "    [lin, col, ch] = img.shape\n",
    "    print(lin, col, ch)\n",
    "    square = 256\n",
    "    offset = 256\n",
    "    img_number = 0\n",
    "    for i in range(0, lin, offset):\n",
    "        for j in range(0, col, offset):           \n",
    "            if(i+square > lin or j+square > col):\n",
    "                continue\n",
    "            alpha = img[i:i+square, j:j+square, 3]\n",
    "            n_white_pix = np.sum(alpha == 255)\n",
    "            print(n_white_pix)\n",
    "            \n",
    "            if(n_white_pix / (square*square) > 0.8):\n",
    "                image_without_alpha = img[i:i+square, j:j+square, :3]\n",
    "                cut_mask = mask[i:i+square, j:j+square]\n",
    "                io.imsave(saida + dataset_name + \"/\" + str(img_number) + \".png\",\n",
    "                          image_without_alpha, check_contrast=False)\n",
    "                io.imsave(saida + dataset + \"_mask/\" + str(img_number) + \".png\",\n",
    "                          cut_mask, check_contrast=False)\n",
    "                img_number = img_number + 1\n"
   ]
  },
  {
   "cell_type": "code",
   "execution_count": 3,
   "metadata": {},
   "outputs": [
    {
     "name": "stdout",
     "output_type": "stream",
     "text": [
      "atual_fold: 0 /media/sda2/home/j/Downloads/tests/recortes_tmp/folds/1\n",
      "atual_fold: 1 /media/sda2/home/j/Downloads/tests/recortes_tmp/folds/2\n"
     ]
    }
   ],
   "source": [
    "diretorio = \"/media/sda2/home/j/Downloads/tests/recortes_tmp/\"\n",
    "saida = \"/media/sda2/home/j/Downloads/tests/recortes_tmp/folds/\"\n",
    "\n",
    "dataset_name = \"Base_A\"\n",
    "\n",
    "!mkdir -p $saida\n",
    "\n",
    "nr_files = len(glob.glob(diretorio + dataset_name + \"/*.png\"))\n",
    "#print(nr_files)\n",
    "\n",
    "folds = 10 #10\n",
    "offset = 0\n",
    "nr_test = int(nr_files / folds)\n",
    "nr_train = nr_files - nr_test\n",
    "\n",
    "#do_folds = False\n",
    "do_folds = True\n",
    "\n",
    "if(do_folds):\n",
    "    for atual_fold in range(0, 2): #folds = 10\n",
    "        print(\"atual_fold:\", atual_fold, saida + str(atual_fold + 1))\n",
    "\n",
    "        try:            \n",
    "            os.mkdir(saida + str(atual_fold + 1))\n",
    "            os.mkdir(saida + str(atual_fold + 1) + \"/train\")\n",
    "            os.mkdir(saida + str(atual_fold + 1) + \"/test\")\n",
    "            os.mkdir(saida + str(atual_fold + 1) + \"/train/images\")\n",
    "            os.mkdir(saida + str(atual_fold + 1) + \"/train/labels\")\n",
    "            os.mkdir(saida + str(atual_fold + 1) + \"/test/images\")\n",
    "            os.mkdir(saida + str(atual_fold + 1) + \"/test/labels\")\n",
    "        except:\n",
    "            None\n",
    "\n",
    "        aux_test = 0\n",
    "        aux_train = 0\n",
    "        aux_contador = 0\n",
    "        for name in sorted(glob.glob(diretorio + dataset_name + \"/*.png\")):\n",
    "            # nesse caso to montando test\n",
    "            if aux_contador >= offset:\n",
    "                if aux_contador <= offset + nr_test:\n",
    "                    shutil.copy(name, saida+str(atual_fold + 1)+ \"/test/images/\" + os.path.basename(name))\n",
    "                else:\n",
    "                    shutil.copy(name, saida+str(atual_fold + 1)+ \"/train/images/\" + os.path.basename(name))\n",
    "            else:\n",
    "                shutil.copy(name, saida+str(atual_fold + 1)+ \"/train/images/\" + os.path.basename(name))\n",
    "\n",
    "            aux_contador = aux_contador + 1\n",
    "\n",
    "        aux_test = 0\n",
    "        aux_train = 0\n",
    "        aux_contador = 0\n",
    "        for name in sorted(glob.glob(diretorio + dataset_name + \"_mask/*.png\")):\n",
    "            # nesse caso to montando test\n",
    "            if aux_contador >= offset:\n",
    "                if aux_contador <= offset + nr_test:\n",
    "                    shutil.copy(name, saida+str(atual_fold + 1) + \"/test/labels/\" + os.path.basename(name))\n",
    "                else:\n",
    "                    shutil.copy(name, saida+str(atual_fold + 1) +\"/train/labels/\" + os.path.basename(name))\n",
    "            else:\n",
    "                shutil.copy(name, saida+str(atual_fold + 1) + \"/train/labels/\" + os.path.basename(name))\n",
    "\n",
    "            aux_contador = aux_contador + 1\n",
    "        offset = offset + (nr_test + 1)\n"
   ]
  },
  {
   "cell_type": "code",
   "execution_count": null,
   "metadata": {},
   "outputs": [],
   "source": []
  }
 ],
 "metadata": {
  "kernelspec": {
   "display_name": "Python 3 (ipykernel)",
   "language": "python",
   "name": "python3"
  },
  "language_info": {
   "codemirror_mode": {
    "name": "ipython",
    "version": 3
   },
   "file_extension": ".py",
   "mimetype": "text/x-python",
   "name": "python",
   "nbconvert_exporter": "python",
   "pygments_lexer": "ipython3",
   "version": "3.9.7"
  }
 },
 "nbformat": 4,
 "nbformat_minor": 4
}
